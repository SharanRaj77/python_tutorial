{
 "cells": [
  {
   "cell_type": "markdown",
   "id": "5e15316b",
   "metadata": {},
   "source": [
    "# First Class Functions"
   ]
  },
  {
   "cell_type": "raw",
   "id": "566d8088",
   "metadata": {},
   "source": [
    "A first-class function in a programming language is an entity which supports all the operations generally available to other entities. These operations typically include being passed as as arguement, returned from a function, and assigned to a variable.\n",
    "\n",
    "In Python, functions are first class objects which means that functions in Python can be used or passed as arguments.\n",
    "Properties of first class functions:\n",
    "1.A function is an instance of the Object type.\n",
    "2.You can store the function in a variable.\n",
    "3.You can pass the function as a parameter to another function.\n",
    "4.You can return the function from a function.\n",
    "5.You can store them in data structures such as hash tables, lists, …"
   ]
  },
  {
   "cell_type": "markdown",
   "id": "384d30b7",
   "metadata": {},
   "source": [
    "Assigned to a variable"
   ]
  },
  {
   "cell_type": "code",
   "execution_count": 1,
   "id": "18be7267",
   "metadata": {},
   "outputs": [],
   "source": [
    "def first_msg(msg1):\n",
    "    \n",
    "    def second_msg(msg2):\n",
    "        print('{} {}'.format(msg1, msg2))\n",
    "        \n",
    "    return second_msg"
   ]
  },
  {
   "cell_type": "code",
   "execution_count": 2,
   "id": "50988638",
   "metadata": {},
   "outputs": [
    {
     "data": {
      "text/plain": [
       "<function __main__.first_msg.<locals>.second_msg(msg2)>"
      ]
     },
     "execution_count": 2,
     "metadata": {},
     "output_type": "execute_result"
    }
   ],
   "source": [
    "first_msg('Hi')"
   ]
  },
  {
   "cell_type": "code",
   "execution_count": 4,
   "id": "d1f6592c",
   "metadata": {},
   "outputs": [
    {
     "name": "stdout",
     "output_type": "stream",
     "text": [
      "<function first_msg.<locals>.second_msg at 0x0000023875EF6A60>\n"
     ]
    }
   ],
   "source": [
    "print(first_msg('Hi'))"
   ]
  },
  {
   "cell_type": "code",
   "execution_count": 42,
   "id": "638c00e6",
   "metadata": {},
   "outputs": [
    {
     "data": {
      "text/plain": [
       "<function __main__.first_msg.<locals>.second_msg(msg2)>"
      ]
     },
     "execution_count": 42,
     "metadata": {},
     "output_type": "execute_result"
    }
   ],
   "source": [
    "x = first_msg('Hi')\n",
    "x\n",
    "\n",
    "# Now the x variable is a function which is equal to the second_msg function, this is called a closure"
   ]
  },
  {
   "cell_type": "code",
   "execution_count": 6,
   "id": "1e7d9edd",
   "metadata": {},
   "outputs": [
    {
     "name": "stdout",
     "output_type": "stream",
     "text": [
      "Hi Man\n"
     ]
    }
   ],
   "source": [
    "x('Man')"
   ]
  },
  {
   "cell_type": "raw",
   "id": "b063f0b0",
   "metadata": {},
   "source": [
    "'''In the above example, the first msg function is the first class function which is assigned to a variable, and on calling returns a function object.'''"
   ]
  },
  {
   "cell_type": "markdown",
   "id": "b0383162",
   "metadata": {},
   "source": [
    "Passed as an arguement"
   ]
  },
  {
   "cell_type": "code",
   "execution_count": 7,
   "id": "94d7812a",
   "metadata": {},
   "outputs": [],
   "source": [
    "def square(x):\n",
    "    \n",
    "    return x*x"
   ]
  },
  {
   "cell_type": "code",
   "execution_count": 8,
   "id": "9b06e40c",
   "metadata": {},
   "outputs": [],
   "source": [
    "def my_map(func, arg_list):\n",
    "    result = []\n",
    "    \n",
    "    for i in arg_list:\n",
    "        result.append(func(i))\n",
    "    \n",
    "    return result"
   ]
  },
  {
   "cell_type": "markdown",
   "id": "1a25610d",
   "metadata": {},
   "source": [
    "Here, we are passing the square function as the arguement"
   ]
  },
  {
   "cell_type": "code",
   "execution_count": 11,
   "id": "d21c6cf6",
   "metadata": {},
   "outputs": [
    {
     "data": {
      "text/plain": [
       "[1, 4, 9, 16, 25]"
      ]
     },
     "execution_count": 11,
     "metadata": {},
     "output_type": "execute_result"
    }
   ],
   "source": [
    "my_map(square, [1,2,3,4,5])"
   ]
  },
  {
   "cell_type": "raw",
   "id": "a2aa3faa",
   "metadata": {},
   "source": [
    "'''In the above example, the square function is the first class function which is being passed as an arguement to the my_map \n",
    "function'''"
   ]
  },
  {
   "cell_type": "markdown",
   "id": "053c1e9c",
   "metadata": {},
   "source": [
    "Returned from a function"
   ]
  },
  {
   "cell_type": "code",
   "execution_count": 79,
   "id": "1e728510",
   "metadata": {},
   "outputs": [],
   "source": [
    "def return_from_func(*args, **kwargs):\n",
    "    \n",
    "    return square(*args, **kwargs)"
   ]
  },
  {
   "cell_type": "code",
   "execution_count": 80,
   "id": "edaf6877",
   "metadata": {},
   "outputs": [
    {
     "data": {
      "text/plain": [
       "25"
      ]
     },
     "execution_count": 80,
     "metadata": {},
     "output_type": "execute_result"
    }
   ],
   "source": [
    "return_from_func(5)"
   ]
  },
  {
   "cell_type": "markdown",
   "id": "e030424a",
   "metadata": {},
   "source": [
    "Can be treated as objects"
   ]
  },
  {
   "cell_type": "code",
   "execution_count": 60,
   "id": "c0b595c3",
   "metadata": {},
   "outputs": [
    {
     "name": "stdout",
     "output_type": "stream",
     "text": [
      "HELLO\n",
      "HELLO\n"
     ]
    }
   ],
   "source": [
    "def shout(text):\n",
    "    return text.upper()\n",
    "\n",
    "print(shout('Hello'))\n",
    "\n",
    "yell = shout\n",
    "\n",
    "print(yell('Hello'))\n"
   ]
  },
  {
   "cell_type": "code",
   "execution_count": null,
   "id": "296de6a0",
   "metadata": {},
   "outputs": [],
   "source": []
  },
  {
   "cell_type": "markdown",
   "id": "363bd261",
   "metadata": {},
   "source": [
    "# Closures"
   ]
  },
  {
   "cell_type": "markdown",
   "id": "3eb3479e",
   "metadata": {},
   "source": [
    "A closure is a record storing a function together with an environment. The environment is a mapping associating each free variable of the function (variables that are used locally, but defined in an enclosing scope) with the value or reference to which the name was bound when the closure was created. Unlike a plain function, a closure allows the function to access those captured variables through the closure's copies of their values or references, even when the function is invoked outside their scope."
   ]
  },
  {
   "cell_type": "code",
   "execution_count": 62,
   "id": "c58d5ffd",
   "metadata": {},
   "outputs": [],
   "source": [
    "def outer_function():\n",
    "    message = 'Hi'\n",
    "    \n",
    "    def inner_function():\n",
    "        print(message)\n",
    "    \n",
    "    return inner_function() # This line tells the compiler to execute the inner function and return it\n",
    "    # return inner_function # This line only returns the inner function without executing it"
   ]
  },
  {
   "cell_type": "code",
   "execution_count": 63,
   "id": "8e6524ff",
   "metadata": {},
   "outputs": [
    {
     "name": "stdout",
     "output_type": "stream",
     "text": [
      "Hi\n"
     ]
    }
   ],
   "source": [
    "outer_function()"
   ]
  },
  {
   "cell_type": "code",
   "execution_count": 64,
   "id": "01301775",
   "metadata": {},
   "outputs": [
    {
     "name": "stdout",
     "output_type": "stream",
     "text": [
      "Hi\n"
     ]
    }
   ],
   "source": [
    "my_function = outer_function()\n",
    "my_function"
   ]
  },
  {
   "cell_type": "code",
   "execution_count": 75,
   "id": "47e83c20",
   "metadata": {},
   "outputs": [],
   "source": [
    "def outer_function():\n",
    "    message = 'Hi'\n",
    "    \n",
    "    def inner_function():\n",
    "        print(message)\n",
    "    \n",
    "    # return inner_function() # This line tells the compiler to execute the inner function and return it\n",
    "    return inner_function # This line only returns the inner function without executing i"
   ]
  },
  {
   "cell_type": "code",
   "execution_count": 76,
   "id": "9f72392f",
   "metadata": {},
   "outputs": [
    {
     "data": {
      "text/plain": [
       "<function __main__.outer_function.<locals>.inner_function()>"
      ]
     },
     "execution_count": 76,
     "metadata": {},
     "output_type": "execute_result"
    }
   ],
   "source": [
    "outer_function()"
   ]
  },
  {
   "cell_type": "code",
   "execution_count": 77,
   "id": "a292d0c3",
   "metadata": {},
   "outputs": [
    {
     "data": {
      "text/plain": [
       "<function __main__.outer_function.<locals>.inner_function()>"
      ]
     },
     "execution_count": 77,
     "metadata": {},
     "output_type": "execute_result"
    }
   ],
   "source": [
    "my_function = outer_function()\n",
    "my_function"
   ]
  },
  {
   "cell_type": "code",
   "execution_count": 78,
   "id": "20c3643c",
   "metadata": {},
   "outputs": [
    {
     "data": {
      "text/plain": [
       "'inner_function'"
      ]
     },
     "execution_count": 78,
     "metadata": {},
     "output_type": "execute_result"
    }
   ],
   "source": [
    "my_function.__name__"
   ]
  },
  {
   "cell_type": "code",
   "execution_count": 68,
   "id": "509b03cc",
   "metadata": {},
   "outputs": [
    {
     "name": "stdout",
     "output_type": "stream",
     "text": [
      "Hi\n"
     ]
    }
   ],
   "source": [
    "my_function() "
   ]
  },
  {
   "cell_type": "raw",
   "id": "5ca59309",
   "metadata": {},
   "source": [
    "'''Now this is called a closure, its equivalent to the inner function which remembers and has access to the variables in the \n",
    "local scope in which it was created'''"
   ]
  },
  {
   "cell_type": "code",
   "execution_count": 69,
   "id": "b5a26afc",
   "metadata": {},
   "outputs": [],
   "source": [
    "def outer_function(msg):\n",
    "    message = msg\n",
    "    \n",
    "    def inner_function():\n",
    "        print(message)\n",
    "    \n",
    "    return inner_function"
   ]
  },
  {
   "cell_type": "code",
   "execution_count": 70,
   "id": "8e5d30ee",
   "metadata": {},
   "outputs": [],
   "source": [
    "hi_func = outer_function('Hi')"
   ]
  },
  {
   "cell_type": "code",
   "execution_count": 71,
   "id": "8d34bfef",
   "metadata": {},
   "outputs": [
    {
     "data": {
      "text/plain": [
       "<function __main__.outer_function.<locals>.inner_function()>"
      ]
     },
     "execution_count": 71,
     "metadata": {},
     "output_type": "execute_result"
    }
   ],
   "source": [
    "hi_func"
   ]
  },
  {
   "cell_type": "code",
   "execution_count": 72,
   "id": "95dbf656",
   "metadata": {},
   "outputs": [
    {
     "name": "stdout",
     "output_type": "stream",
     "text": [
      "Hi\n"
     ]
    }
   ],
   "source": [
    "hi_func()"
   ]
  },
  {
   "cell_type": "markdown",
   "id": "293ec591",
   "metadata": {},
   "source": [
    "# Decorators"
   ]
  },
  {
   "cell_type": "markdown",
   "id": "68e95701",
   "metadata": {},
   "source": [
    "Decorators are a very powerful and useful tool in Python since it allows programmers to modify the behaviour of a function or class. Decorators allow us to wrap another function in order to extend the behaviour of the wrapped function, without permanently modifying it. \n",
    "\n",
    "In Decorators, functions are taken as the argument into another function and then called inside the wrapper function."
   ]
  },
  {
   "cell_type": "raw",
   "id": "28d53cc0",
   "metadata": {},
   "source": [
    "@gfg_decorator\n",
    "def hello_decorator():\n",
    "    print(\"Gfg\")\n",
    "\n",
    "'''Above code is equivalent to -\n",
    "\n",
    "def hello_decorator():\n",
    "    print(\"Gfg\")\n",
    "    \n",
    "hello_decorator = gfg_decorator(hello_decorator)'''\n"
   ]
  },
  {
   "cell_type": "markdown",
   "id": "be1c34e6",
   "metadata": {},
   "source": [
    "Decorating our functions enables us to easily add extra functionality to our existing functions that is not present."
   ]
  },
  {
   "cell_type": "markdown",
   "id": "791c2124",
   "metadata": {},
   "source": [
    "Function Decorator"
   ]
  },
  {
   "cell_type": "code",
   "execution_count": 81,
   "id": "9f79a7db",
   "metadata": {},
   "outputs": [],
   "source": [
    "def decorator_function(original_function):\n",
    "    def wrapper_function():\n",
    "        return original_function()\n",
    "    return wrapper_function"
   ]
  },
  {
   "cell_type": "code",
   "execution_count": 82,
   "id": "d67c91eb",
   "metadata": {},
   "outputs": [],
   "source": [
    "# Original function\n",
    "\n",
    "def display():\n",
    "    print('This is a display function')"
   ]
  },
  {
   "cell_type": "code",
   "execution_count": 83,
   "id": "382407d9",
   "metadata": {},
   "outputs": [],
   "source": [
    "# Calling display function without a decorator function\n",
    "\n",
    "decorated_display = decorator_function(display)"
   ]
  },
  {
   "cell_type": "code",
   "execution_count": 85,
   "id": "7c069784",
   "metadata": {},
   "outputs": [
    {
     "data": {
      "text/plain": [
       "<function __main__.decorator_function.<locals>.wrapper_function()>"
      ]
     },
     "execution_count": 85,
     "metadata": {},
     "output_type": "execute_result"
    }
   ],
   "source": [
    "decorated_display"
   ]
  },
  {
   "cell_type": "code",
   "execution_count": 86,
   "id": "c5e7dcaa",
   "metadata": {},
   "outputs": [
    {
     "name": "stdout",
     "output_type": "stream",
     "text": [
      "This is a display function\n"
     ]
    }
   ],
   "source": [
    "decorated_display()"
   ]
  },
  {
   "cell_type": "code",
   "execution_count": 88,
   "id": "19c07eaf",
   "metadata": {},
   "outputs": [],
   "source": [
    "# The same decorator can also be called in this way\n",
    "\n",
    "@decorator_function\n",
    "def display():\n",
    "    print('This is a display function')"
   ]
  },
  {
   "cell_type": "code",
   "execution_count": 89,
   "id": "fb568575",
   "metadata": {},
   "outputs": [
    {
     "name": "stdout",
     "output_type": "stream",
     "text": [
      "This is a display function\n"
     ]
    }
   ],
   "source": [
    "display()"
   ]
  },
  {
   "cell_type": "raw",
   "id": "43065432",
   "metadata": {},
   "source": [
    "The above example demostrates the use of decorator but no additional functionality was added."
   ]
  },
  {
   "cell_type": "markdown",
   "id": "ba75cbee",
   "metadata": {},
   "source": [
    "Now, lets add an extra functionality to the display function"
   ]
  },
  {
   "cell_type": "code",
   "execution_count": 93,
   "id": "8cdbf50d",
   "metadata": {},
   "outputs": [],
   "source": [
    "def decorator_function(original_function):\n",
    "    def wrapper_function():\n",
    "        # Adding extra functionality\n",
    "        print('Wrapper was executed before the {} function'.format(original_function.__name__))\n",
    "        return original_function()\n",
    "    return wrapper_function"
   ]
  },
  {
   "cell_type": "code",
   "execution_count": 95,
   "id": "c8609e34",
   "metadata": {},
   "outputs": [
    {
     "name": "stdout",
     "output_type": "stream",
     "text": [
      "Wrapper was executed before the wrapper_function function\n",
      "This is a display function\n"
     ]
    }
   ],
   "source": [
    "# Calling display function without a decorator function with added functionality\n",
    "\n",
    "decorated_display = decorator_function(display)\n",
    "decorated_display()"
   ]
  },
  {
   "cell_type": "code",
   "execution_count": 96,
   "id": "2558c743",
   "metadata": {},
   "outputs": [
    {
     "name": "stdout",
     "output_type": "stream",
     "text": [
      "This is a display function\n"
     ]
    }
   ],
   "source": [
    "# Calling display function with a decorator function\n",
    "\n",
    "display()"
   ]
  },
  {
   "cell_type": "code",
   "execution_count": 97,
   "id": "a4e91273",
   "metadata": {},
   "outputs": [],
   "source": [
    "# The same decorator can also be called in this way\n",
    "\n",
    "@decorator_function\n",
    "def display():\n",
    "    print('This is a display function')"
   ]
  },
  {
   "cell_type": "code",
   "execution_count": 98,
   "id": "3488d23c",
   "metadata": {},
   "outputs": [
    {
     "name": "stdout",
     "output_type": "stream",
     "text": [
      "Wrapper was executed before the display function\n",
      "This is a display function\n"
     ]
    }
   ],
   "source": [
    "display()"
   ]
  },
  {
   "cell_type": "markdown",
   "id": "bf5e8425",
   "metadata": {},
   "source": [
    "Passing an arguement to the original function"
   ]
  },
  {
   "cell_type": "code",
   "execution_count": 108,
   "id": "e76a6d20",
   "metadata": {},
   "outputs": [],
   "source": [
    "# Original function with arguements\n",
    "\n",
    "def display_info(name, age):\n",
    "    print('The info is {} and {}'.format(name, age))"
   ]
  },
  {
   "cell_type": "code",
   "execution_count": 109,
   "id": "55cb6ec8",
   "metadata": {},
   "outputs": [],
   "source": [
    "def decorator_function(original_function):\n",
    "    def wrapper_function():\n",
    "        return original_function()\n",
    "    return wrapper_function"
   ]
  },
  {
   "cell_type": "code",
   "execution_count": 110,
   "id": "8943e56a",
   "metadata": {},
   "outputs": [],
   "source": [
    "@decorator_function\n",
    "def display_info(name, age):\n",
    "    print('The info is {} and {}'.format(name, age))"
   ]
  },
  {
   "cell_type": "code",
   "execution_count": 111,
   "id": "e527cc86",
   "metadata": {},
   "outputs": [
    {
     "ename": "TypeError",
     "evalue": "wrapper_function() takes 0 positional arguments but 2 were given",
     "output_type": "error",
     "traceback": [
      "\u001b[1;31m---------------------------------------------------------------------------\u001b[0m",
      "\u001b[1;31mTypeError\u001b[0m                                 Traceback (most recent call last)",
      "\u001b[1;32m~\\AppData\\Local\\Temp/ipykernel_2492/307227057.py\u001b[0m in \u001b[0;36m<module>\u001b[1;34m\u001b[0m\n\u001b[1;32m----> 1\u001b[1;33m \u001b[0mdisplay_info\u001b[0m\u001b[1;33m(\u001b[0m\u001b[1;34m'John'\u001b[0m\u001b[1;33m,\u001b[0m \u001b[1;36m25\u001b[0m\u001b[1;33m)\u001b[0m\u001b[1;33m\u001b[0m\u001b[1;33m\u001b[0m\u001b[0m\n\u001b[0m",
      "\u001b[1;31mTypeError\u001b[0m: wrapper_function() takes 0 positional arguments but 2 were given"
     ]
    }
   ],
   "source": [
    "display_info('John', 25)"
   ]
  },
  {
   "cell_type": "raw",
   "id": "656fcb46",
   "metadata": {},
   "source": [
    "The above error is because, we did not pass the same arguements passed in the original function in the decorator function.\n",
    "To solve this, pass *args and **kwargs"
   ]
  },
  {
   "cell_type": "code",
   "execution_count": 113,
   "id": "90ad78a8",
   "metadata": {},
   "outputs": [],
   "source": [
    "def decorator_function(original_function):\n",
    "    def wrapper_function(*args, **kwargs):\n",
    "        return original_function(*args, **kwargs)\n",
    "    return wrapper_function"
   ]
  },
  {
   "cell_type": "code",
   "execution_count": 114,
   "id": "571b8601",
   "metadata": {},
   "outputs": [],
   "source": [
    "@decorator_function\n",
    "def display_info(name, age):\n",
    "    print('The info is {} and {}'.format(name, age))"
   ]
  },
  {
   "cell_type": "code",
   "execution_count": 115,
   "id": "5e072f79",
   "metadata": {},
   "outputs": [
    {
     "name": "stdout",
     "output_type": "stream",
     "text": [
      "The info is John and 25\n"
     ]
    }
   ],
   "source": [
    "display_info('John', 25)"
   ]
  },
  {
   "cell_type": "code",
   "execution_count": 117,
   "id": "f2688f2f",
   "metadata": {},
   "outputs": [],
   "source": [
    "def decorator_function(original_function):\n",
    "    def wrapper_function(*args, **kwargs):\n",
    "        # Adding extra functionality\n",
    "        print('Wrapper was executed before the {} function'.format(original_function.__name__))\n",
    "        return original_function(*args, **kwargs)\n",
    "    return wrapper_function"
   ]
  },
  {
   "cell_type": "code",
   "execution_count": 118,
   "id": "1f61fc59",
   "metadata": {},
   "outputs": [],
   "source": [
    "@decorator_function\n",
    "def display_info(name, age):\n",
    "    print('The info is {} and {}'.format(name, age))"
   ]
  },
  {
   "cell_type": "code",
   "execution_count": 119,
   "id": "fc443d77",
   "metadata": {},
   "outputs": [
    {
     "name": "stdout",
     "output_type": "stream",
     "text": [
      "Wrapper was executed before the display_info function\n",
      "The info is John and 25\n"
     ]
    }
   ],
   "source": [
    "display_info('John', 25)"
   ]
  },
  {
   "cell_type": "markdown",
   "id": "acd77894",
   "metadata": {},
   "source": [
    "Class Decorators"
   ]
  },
  {
   "cell_type": "code",
   "execution_count": 120,
   "id": "d359b8d4",
   "metadata": {},
   "outputs": [],
   "source": [
    "class decorator_function(object):\n",
    "    \n",
    "    # This is going to tie our function with the instance of our class.\n",
    "    def __init__(self, original_function):\n",
    "        self.original_function = original_function\n",
    "    \n",
    "    # To mimic the functionality of the wrapper function.\n",
    "    def __call__(self, *args, **kwargs):\n",
    "        # Adding extra functionality\n",
    "        print('Call method was executed before the {} function'.format(self.original_function.__name__))\n",
    "        return self.original_function(*args, **kwargs)     "
   ]
  },
  {
   "cell_type": "code",
   "execution_count": 121,
   "id": "86f4d8eb",
   "metadata": {},
   "outputs": [
    {
     "name": "stdout",
     "output_type": "stream",
     "text": [
      "Call method was executed before the display_info function\n",
      "The info is John and 25\n"
     ]
    }
   ],
   "source": [
    "@decorator_function\n",
    "def display_info(name, age):\n",
    "    print('The info is {} and {}'.format(name, age))\n",
    "    \n",
    "display_info('John', 25)"
   ]
  },
  {
   "cell_type": "markdown",
   "id": "46d67f28",
   "metadata": {},
   "source": [
    "Practical examples"
   ]
  },
  {
   "cell_type": "markdown",
   "id": "ed793644",
   "metadata": {},
   "source": [
    "One of the most common use cases of decorators is logging"
   ]
  },
  {
   "cell_type": "code",
   "execution_count": 158,
   "id": "2c5b3665",
   "metadata": {},
   "outputs": [],
   "source": [
    "def my_logger(orig_func):\n",
    "    import logging \n",
    "    logging.basicConfig(filename='{}.log'.format(orig_func.__name__), level=logging.INFO)\n",
    "    \n",
    "    def wrapper(*args, **kwargs):\n",
    "        logging.info('Ran with args: {}, and kwargs: {}'.format(args, kwargs))\n",
    "        return orig_func(*args, **kwargs)\n",
    "    return wrapper"
   ]
  },
  {
   "cell_type": "code",
   "execution_count": 159,
   "id": "b70aef69",
   "metadata": {},
   "outputs": [
    {
     "name": "stdout",
     "output_type": "stream",
     "text": [
      "The info is John and 25\n"
     ]
    }
   ],
   "source": [
    "@my_logger\n",
    "def display_info(name, age):\n",
    "    print('The info is {} and {}'.format(name, age))\n",
    "    \n",
    "display_info('John', 25)"
   ]
  },
  {
   "cell_type": "code",
   "execution_count": 160,
   "id": "47e6bb7e",
   "metadata": {},
   "outputs": [
    {
     "name": "stdout",
     "output_type": "stream",
     "text": [
      "The info is Tony and 35\n"
     ]
    }
   ],
   "source": [
    "@my_logger\n",
    "def display_info(name, age):\n",
    "    print('The info is {} and {}'.format(name, age))\n",
    "    \n",
    "display_info('Tony', 35)"
   ]
  },
  {
   "cell_type": "raw",
   "id": "0d755562",
   "metadata": {},
   "source": [
    "Check display_info.log file for the logging message"
   ]
  },
  {
   "cell_type": "markdown",
   "id": "3d04cf7e",
   "metadata": {},
   "source": [
    "Another usecase of decorators is to time how long functions run"
   ]
  },
  {
   "cell_type": "code",
   "execution_count": 161,
   "id": "52e3961c",
   "metadata": {},
   "outputs": [],
   "source": [
    "def my_timer(orig_func):\n",
    "        import time\n",
    "        \n",
    "        def wrapper(*args, **kwargs):\n",
    "            t1 = time.time()\n",
    "            result = orig_func(*args, **kwargs)\n",
    "            t2 = time.time() - t1\n",
    "            print('{} ran in: {} sec'.format(orig_func.__name__, t2))\n",
    "            return result\n",
    "        \n",
    "        return wrapper"
   ]
  },
  {
   "cell_type": "code",
   "execution_count": 162,
   "id": "9bbf2fd6",
   "metadata": {},
   "outputs": [
    {
     "name": "stdout",
     "output_type": "stream",
     "text": [
      "The info is Tony and 35\n",
      "display_info ran in: 0.0 sec\n"
     ]
    }
   ],
   "source": [
    "@my_timer\n",
    "def display_info(name, age):\n",
    "    print('The info is {} and {}'.format(name, age))\n",
    "    \n",
    "display_info('Tony', 35)"
   ]
  },
  {
   "cell_type": "code",
   "execution_count": 163,
   "id": "58405f1d",
   "metadata": {},
   "outputs": [
    {
     "name": "stdout",
     "output_type": "stream",
     "text": [
      "The info is Tony and 35\n",
      "display_info ran in: 0.0 sec\n"
     ]
    }
   ],
   "source": [
    "@my_logger\n",
    "@my_timer\n",
    "def display_info(name, age):\n",
    "    print('The info is {} and {}'.format(name, age))\n",
    "    \n",
    "display_info('Tony', 35)\n",
    "\n",
    "# The timer msg is correct\n",
    "# The logger however, did not log a msg, but a new file wrapper.log was created"
   ]
  },
  {
   "cell_type": "code",
   "execution_count": 164,
   "id": "3b27d806",
   "metadata": {},
   "outputs": [
    {
     "name": "stdout",
     "output_type": "stream",
     "text": [
      "The info is Tony and 35\n",
      "wrapper ran in: 0.001994609832763672 sec\n"
     ]
    }
   ],
   "source": [
    "@my_timer\n",
    "@my_logger\n",
    "def display_info(name, age):\n",
    "    print('The info is {} and {}'.format(name, age))\n",
    "    \n",
    "display_info('Tony', 35)\n",
    "\n",
    "# The timer msg is wrong\n",
    "# The logger msg in the log file is correct"
   ]
  },
  {
   "cell_type": "code",
   "execution_count": 165,
   "id": "ae6c3fc5",
   "metadata": {},
   "outputs": [],
   "source": [
    "# This is because the name of the original function when multiple decorators are stacked is not preserved.\n",
    "# See explanation below"
   ]
  },
  {
   "cell_type": "code",
   "execution_count": 166,
   "id": "ffea5945",
   "metadata": {},
   "outputs": [
    {
     "name": "stdout",
     "output_type": "stream",
     "text": [
      "The info is Tony and 35\n",
      "wrapper ran in: 0.0 sec\n",
      "wrapper ran in: 0.0 sec\n",
      "None\n"
     ]
    }
   ],
   "source": [
    "# Calling the stacked decorator is equivalent to the code below\n",
    "\n",
    "decorated_display_info = my_logger(my_timer(display_info))\n",
    "\n",
    "print(decorated_display_info('Tony', 35))"
   ]
  },
  {
   "cell_type": "code",
   "execution_count": 167,
   "id": "aec2003e",
   "metadata": {},
   "outputs": [
    {
     "name": "stdout",
     "output_type": "stream",
     "text": [
      "wrapper\n"
     ]
    }
   ],
   "source": [
    "# Lets break it down\n",
    "\n",
    "# First of the two stacked decorators\n",
    "\n",
    "decorated_display_info = my_timer(display_info)\n",
    "\n",
    "print(decorated_display_info.__name__)"
   ]
  },
  {
   "cell_type": "code",
   "execution_count": 168,
   "id": "03b18ee3",
   "metadata": {},
   "outputs": [],
   "source": [
    "# The returned function is wrapper. This function now replaces the original function in the my_timer decorator.\n",
    "# Hence the error\n",
    "\n",
    "# To preserve the name of the original function, we'll use wraps from functools\n",
    "# We are going to decorate all our wrapper functions with wraps decorator"
   ]
  },
  {
   "cell_type": "code",
   "execution_count": 169,
   "id": "7e0779f8",
   "metadata": {},
   "outputs": [],
   "source": [
    "from functools import wraps"
   ]
  },
  {
   "cell_type": "code",
   "execution_count": 170,
   "id": "c82057de",
   "metadata": {},
   "outputs": [],
   "source": [
    "def my_logger(orig_func):\n",
    "    import logging \n",
    "    logging.basicConfig(filename='{}.log'.format(orig_func.__name__), level=logging.INFO)\n",
    "    \n",
    "    @wraps\n",
    "    def wrapper(*args, **kwargs):\n",
    "        logging.info('Ran with args: {}, and kwargs: {}'.format(args, kwargs))\n",
    "        return orig_func(*args, **kwargs)\n",
    "    return wrapper"
   ]
  },
  {
   "cell_type": "code",
   "execution_count": 171,
   "id": "d01139ae",
   "metadata": {},
   "outputs": [],
   "source": [
    "def my_timer(orig_func):\n",
    "        import time\n",
    "        \n",
    "        @wraps\n",
    "        def wrapper(*args, **kwargs):\n",
    "            t1 = time.time()\n",
    "            result = orig_func(*args, **kwargs)\n",
    "            t2 = time.time() - t1\n",
    "            print('{} ran in: {} sec'.format(orig_func.__name__, t2))\n",
    "            return result\n",
    "        \n",
    "        return wrapper"
   ]
  },
  {
   "cell_type": "code",
   "execution_count": 172,
   "id": "2849940d",
   "metadata": {},
   "outputs": [
    {
     "ename": "AttributeError",
     "evalue": "'functools.partial' object has no attribute '__name__'",
     "output_type": "error",
     "traceback": [
      "\u001b[1;31m---------------------------------------------------------------------------\u001b[0m",
      "\u001b[1;31mAttributeError\u001b[0m                            Traceback (most recent call last)",
      "\u001b[1;32m~\\AppData\\Local\\Temp/ipykernel_2492/711018759.py\u001b[0m in \u001b[0;36m<module>\u001b[1;34m\u001b[0m\n\u001b[0;32m      1\u001b[0m \u001b[1;33m@\u001b[0m\u001b[0mmy_logger\u001b[0m\u001b[1;33m\u001b[0m\u001b[1;33m\u001b[0m\u001b[0m\n\u001b[0;32m      2\u001b[0m \u001b[1;33m@\u001b[0m\u001b[0mmy_timer\u001b[0m\u001b[1;33m\u001b[0m\u001b[1;33m\u001b[0m\u001b[0m\n\u001b[1;32m----> 3\u001b[1;33m \u001b[1;32mdef\u001b[0m \u001b[0mdisplay_info\u001b[0m\u001b[1;33m(\u001b[0m\u001b[0mname\u001b[0m\u001b[1;33m,\u001b[0m \u001b[0mage\u001b[0m\u001b[1;33m)\u001b[0m\u001b[1;33m:\u001b[0m\u001b[1;33m\u001b[0m\u001b[1;33m\u001b[0m\u001b[0m\n\u001b[0m\u001b[0;32m      4\u001b[0m     \u001b[0mprint\u001b[0m\u001b[1;33m(\u001b[0m\u001b[1;34m'The info is {} and {}'\u001b[0m\u001b[1;33m.\u001b[0m\u001b[0mformat\u001b[0m\u001b[1;33m(\u001b[0m\u001b[0mname\u001b[0m\u001b[1;33m,\u001b[0m \u001b[0mage\u001b[0m\u001b[1;33m)\u001b[0m\u001b[1;33m)\u001b[0m\u001b[1;33m\u001b[0m\u001b[1;33m\u001b[0m\u001b[0m\n\u001b[0;32m      5\u001b[0m \u001b[1;33m\u001b[0m\u001b[0m\n",
      "\u001b[1;32m~\\AppData\\Local\\Temp/ipykernel_2492/3249809711.py\u001b[0m in \u001b[0;36mmy_logger\u001b[1;34m(orig_func)\u001b[0m\n\u001b[0;32m      1\u001b[0m \u001b[1;32mdef\u001b[0m \u001b[0mmy_logger\u001b[0m\u001b[1;33m(\u001b[0m\u001b[0morig_func\u001b[0m\u001b[1;33m)\u001b[0m\u001b[1;33m:\u001b[0m\u001b[1;33m\u001b[0m\u001b[1;33m\u001b[0m\u001b[0m\n\u001b[0;32m      2\u001b[0m     \u001b[1;32mimport\u001b[0m \u001b[0mlogging\u001b[0m\u001b[1;33m\u001b[0m\u001b[1;33m\u001b[0m\u001b[0m\n\u001b[1;32m----> 3\u001b[1;33m     \u001b[0mlogging\u001b[0m\u001b[1;33m.\u001b[0m\u001b[0mbasicConfig\u001b[0m\u001b[1;33m(\u001b[0m\u001b[0mfilename\u001b[0m\u001b[1;33m=\u001b[0m\u001b[1;34m'{}.log'\u001b[0m\u001b[1;33m.\u001b[0m\u001b[0mformat\u001b[0m\u001b[1;33m(\u001b[0m\u001b[0morig_func\u001b[0m\u001b[1;33m.\u001b[0m\u001b[0m__name__\u001b[0m\u001b[1;33m)\u001b[0m\u001b[1;33m,\u001b[0m \u001b[0mlevel\u001b[0m\u001b[1;33m=\u001b[0m\u001b[0mlogging\u001b[0m\u001b[1;33m.\u001b[0m\u001b[0mINFO\u001b[0m\u001b[1;33m)\u001b[0m\u001b[1;33m\u001b[0m\u001b[1;33m\u001b[0m\u001b[0m\n\u001b[0m\u001b[0;32m      4\u001b[0m \u001b[1;33m\u001b[0m\u001b[0m\n\u001b[0;32m      5\u001b[0m     \u001b[1;33m@\u001b[0m\u001b[0mwraps\u001b[0m\u001b[1;33m\u001b[0m\u001b[1;33m\u001b[0m\u001b[0m\n",
      "\u001b[1;31mAttributeError\u001b[0m: 'functools.partial' object has no attribute '__name__'"
     ]
    }
   ],
   "source": [
    "@my_logger\n",
    "@my_timer\n",
    "def display_info(name, age):\n",
    "    print('The info is {} and {}'.format(name, age))\n",
    "    \n",
    "display_info('Tony', 35)"
   ]
  },
  {
   "cell_type": "code",
   "execution_count": 173,
   "id": "dbd40037",
   "metadata": {},
   "outputs": [
    {
     "ename": "AttributeError",
     "evalue": "'functools.partial' object has no attribute '__name__'",
     "output_type": "error",
     "traceback": [
      "\u001b[1;31m---------------------------------------------------------------------------\u001b[0m",
      "\u001b[1;31mAttributeError\u001b[0m                            Traceback (most recent call last)",
      "\u001b[1;32m~\\AppData\\Local\\Temp/ipykernel_2492/890184134.py\u001b[0m in \u001b[0;36m<module>\u001b[1;34m\u001b[0m\n\u001b[0;32m      1\u001b[0m \u001b[0mdecorated_display_info\u001b[0m \u001b[1;33m=\u001b[0m \u001b[0mmy_timer\u001b[0m\u001b[1;33m(\u001b[0m\u001b[0mdisplay_info\u001b[0m\u001b[1;33m)\u001b[0m\u001b[1;33m\u001b[0m\u001b[1;33m\u001b[0m\u001b[0m\n\u001b[0;32m      2\u001b[0m \u001b[1;33m\u001b[0m\u001b[0m\n\u001b[1;32m----> 3\u001b[1;33m \u001b[0mprint\u001b[0m\u001b[1;33m(\u001b[0m\u001b[0mdecorated_display_info\u001b[0m\u001b[1;33m.\u001b[0m\u001b[0m__name__\u001b[0m\u001b[1;33m)\u001b[0m\u001b[1;33m\u001b[0m\u001b[1;33m\u001b[0m\u001b[0m\n\u001b[0m",
      "\u001b[1;31mAttributeError\u001b[0m: 'functools.partial' object has no attribute '__name__'"
     ]
    }
   ],
   "source": [
    "decorated_display_info = my_timer(display_info)\n",
    "\n",
    "print(decorated_display_info.__name__)"
   ]
  },
  {
   "cell_type": "raw",
   "id": "3c720ee7",
   "metadata": {},
   "source": [
    "No solution for this error"
   ]
  },
  {
   "cell_type": "code",
   "execution_count": null,
   "id": "e1e977f4",
   "metadata": {},
   "outputs": [],
   "source": []
  }
 ],
 "metadata": {
  "kernelspec": {
   "display_name": "Python 3 (ipykernel)",
   "language": "python",
   "name": "python3"
  },
  "language_info": {
   "codemirror_mode": {
    "name": "ipython",
    "version": 3
   },
   "file_extension": ".py",
   "mimetype": "text/x-python",
   "name": "python",
   "nbconvert_exporter": "python",
   "pygments_lexer": "ipython3",
   "version": "3.9.7"
  }
 },
 "nbformat": 4,
 "nbformat_minor": 5
}
